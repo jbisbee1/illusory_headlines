{
 "cells": [
  {
   "cell_type": "code",
   "execution_count": 28,
   "id": "0856ea34",
   "metadata": {},
   "outputs": [],
   "source": [
    "# get path\n",
    "import os\n",
    "import glob\n",
    "import pandas as pd"
   ]
  },
  {
   "cell_type": "code",
   "execution_count": 1,
   "id": "03df7e9c",
   "metadata": {},
   "outputs": [],
   "source": [
    "import os\n",
    "\n",
    "def get_files_in_folder(folder_path):\n",
    "    file_list = []\n",
    "    \n",
    "    for root, directories, files in os.walk(folder_path):\n",
    "        for filename in files:\n",
    "            file_path = os.path.join(root, filename)\n",
    "            file_list.append(file_path)\n",
    "    \n",
    "    return file_list\n"
   ]
  },
  {
   "cell_type": "code",
   "execution_count": 35,
   "id": "18168061",
   "metadata": {},
   "outputs": [],
   "source": [
    "# glob solution\n",
    "all_files = glob.glob(\"*/*/*/*.png\", recursive=True)"
   ]
  },
  {
   "cell_type": "code",
   "execution_count": 36,
   "id": "e03c3562",
   "metadata": {},
   "outputs": [],
   "source": [
    "# create path for github\n",
    "full_path = [\"https://raw.githubusercontent.com/jbisbee1/illusory_headlines/main/\" + path  for path in all_files]"
   ]
  },
  {
   "cell_type": "code",
   "execution_count": 40,
   "id": "51e1f0a1",
   "metadata": {},
   "outputs": [
    {
     "data": {
      "text/plain": [
       "['treatment1', 'true', 'pro_d', 'TrueProD_HP_MTGandLB.png']"
      ]
     },
     "execution_count": 40,
     "metadata": {},
     "output_type": "execute_result"
    }
   ],
   "source": [
    "all_files[0].split(\"/\")"
   ]
  },
  {
   "cell_type": "code",
   "execution_count": 41,
   "id": "2d2bc80c",
   "metadata": {},
   "outputs": [],
   "source": [
    "# treatment\n",
    "treatment = [path.split(\"/\")[0]  for path in all_files]\n",
    "# get direction\n",
    "direction = [path.split(\"/\")[2]  for path in all_files]\n",
    "# veracity\n",
    "veracity = [path.split(\"/\")[1]  for path in all_files]"
   ]
  },
  {
   "cell_type": "code",
   "execution_count": 43,
   "id": "efae40d2",
   "metadata": {},
   "outputs": [],
   "source": [
    "pd.DataFrame({\"treatment\":treatment,\n",
    "             \"direction\":direction, \n",
    "              \"veracity\":veracity, \n",
    "             \"full_path\":full_path}).to_csv(\"headlines.csv\")"
   ]
  }
 ],
 "metadata": {
  "kernelspec": {
   "display_name": "Python 3 (ipykernel)",
   "language": "python",
   "name": "python3"
  },
  "language_info": {
   "codemirror_mode": {
    "name": "ipython",
    "version": 3
   },
   "file_extension": ".py",
   "mimetype": "text/x-python",
   "name": "python",
   "nbconvert_exporter": "python",
   "pygments_lexer": "ipython3",
   "version": "3.11.4"
  }
 },
 "nbformat": 4,
 "nbformat_minor": 5
}
