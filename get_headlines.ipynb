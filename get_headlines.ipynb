{
 "cells": [
  {
   "cell_type": "code",
   "execution_count": 28,
   "id": "c73930c9",
   "metadata": {},
   "outputs": [],
   "source": [
    "# get path\n",
    "import os\n",
    "import glob\n",
    "import pandas as pd"
   ]
  },
  {
   "cell_type": "code",
   "execution_count": 1,
   "id": "460f5454",
   "metadata": {},
   "outputs": [],
   "source": [
    "import os\n",
    "\n",
    "def get_files_in_folder(folder_path):\n",
    "    file_list = []\n",
    "    \n",
    "    for root, directories, files in os.walk(folder_path):\n",
    "        for filename in files:\n",
    "            file_path = os.path.join(root, filename)\n",
    "            file_list.append(file_path)\n",
    "    \n",
    "    return file_list\n"
   ]
  },
  {
   "cell_type": "code",
   "execution_count": 19,
   "id": "734a0cce",
   "metadata": {},
   "outputs": [],
   "source": [
    "# glob solution\n",
    "all_files = glob.glob(\"*/*/*.png\", recursive=True)"
   ]
  },
  {
   "cell_type": "code",
   "execution_count": 25,
   "id": "2bcaa7c8",
   "metadata": {},
   "outputs": [],
   "source": [
    "# create path for github\n",
    "full_path = [\"https://raw.githubusercontent.com/jbisbee1/illusory_headlines/main/\" + path  for path in all_files]"
   ]
  },
  {
   "cell_type": "code",
   "execution_count": 26,
   "id": "d94da28c",
   "metadata": {},
   "outputs": [],
   "source": [
    "# get direction\n",
    "direction = [path.split(\"/\")[1]  for path in all_files]\n",
    "# veracity\n",
    "veracity = [path.split(\"/\")[0]  for path in all_files]"
   ]
  },
  {
   "cell_type": "code",
   "execution_count": 30,
   "id": "95d0ec4e",
   "metadata": {},
   "outputs": [],
   "source": [
    "pd.DataFrame({\"direction\":direction, \n",
    "              \"veracity\":veracity, \n",
    "             \"full_path\":full_path}).to_csv(\"headlines.csv\")"
   ]
  }
 ],
 "metadata": {
  "kernelspec": {
   "display_name": "Python 3 (ipykernel)",
   "language": "python",
   "name": "python3"
  },
  "language_info": {
   "codemirror_mode": {
    "name": "ipython",
    "version": 3
   },
   "file_extension": ".py",
   "mimetype": "text/x-python",
   "name": "python",
   "nbconvert_exporter": "python",
   "pygments_lexer": "ipython3",
   "version": "3.11.4"
  }
 },
 "nbformat": 4,
 "nbformat_minor": 5
}
