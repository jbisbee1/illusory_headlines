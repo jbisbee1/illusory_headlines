{
 "cells": [
  {
   "cell_type": "code",
   "execution_count": 29,
   "id": "0856ea34",
   "metadata": {},
   "outputs": [],
   "source": [
    "# get path\n",
    "import os\n",
    "import glob\n",
    "import pandas as pd"
   ]
  },
  {
   "cell_type": "code",
   "execution_count": 30,
   "id": "03df7e9c",
   "metadata": {},
   "outputs": [],
   "source": [
    "import os\n",
    "\n",
    "def get_files_in_folder(folder_path):\n",
    "    file_list = []\n",
    "    \n",
    "    for root, directories, files in os.walk(folder_path):\n",
    "        for filename in files:\n",
    "            file_path = os.path.join(root, filename)\n",
    "            file_list.append(file_path)\n",
    "    \n",
    "    return file_list\n"
   ]
  },
  {
   "cell_type": "code",
   "execution_count": 35,
   "id": "045beed4",
   "metadata": {},
   "outputs": [
    {
     "data": {
      "text/plain": [
       "'/Users/tb186/Dropbox/artigos/BVG_exposure_to_misinformation_beleifs/illusory_headlines'"
      ]
     },
     "execution_count": 35,
     "metadata": {},
     "output_type": "execute_result"
    }
   ],
   "source": [
    "import os\n",
    "os.getcwd()"
   ]
  },
  {
   "cell_type": "code",
   "execution_count": 59,
   "id": "18168061",
   "metadata": {},
   "outputs": [],
   "source": [
    "# glob solution\n",
    "all_files = glob.glob(\"*/*/*/*/*.png\", recursive=True)"
   ]
  },
  {
   "cell_type": "code",
   "execution_count": 60,
   "id": "a0eba033",
   "metadata": {},
   "outputs": [
    {
     "data": {
      "text/plain": [
       "68"
      ]
     },
     "execution_count": 60,
     "metadata": {},
     "output_type": "execute_result"
    }
   ],
   "source": [
    "len(all_files)"
   ]
  },
  {
   "cell_type": "code",
   "execution_count": 61,
   "id": "64cff15c",
   "metadata": {},
   "outputs": [
    {
     "data": {
      "text/plain": [
       "['wave1/treatment1/true/pro_d/Dem_True_MSNBC_1_NoFC.png',\n",
       " 'wave1/treatment1/true/pro_d/Dem_True_DemNow_2_NoFC.png',\n",
       " 'wave1/treatment1/true/pro_d/Dem_True_MSNBC_2_NoFC.png',\n",
       " 'wave1/treatment1/true/pro_d/Dem_True_DemNow_1_NoFC.png',\n",
       " 'wave1/treatment1/true/pro_r/Rep_True_Fox_1_NoFC.png',\n",
       " 'wave1/treatment1/true/pro_r/Rep_True_Breit_2_NoFC.png',\n",
       " 'wave1/treatment1/true/pro_r/Rep_True_Fox_2_NoFC.png',\n",
       " 'wave1/treatment1/true/pro_r/Rep_True_Breit_1_NoFC.png',\n",
       " 'wave1/treatment1/false/pro_d/Dem_False_MSNBC_1_NoFC.png',\n",
       " 'wave1/treatment1/false/pro_d/Dem_False_DemNow_1_NoFC.png',\n",
       " 'wave1/treatment1/false/pro_d/Dem_False_DemNow_2_NoFC.png',\n",
       " 'wave1/treatment1/false/pro_d/Dem_False_MSNBC_2_NoFC.png',\n",
       " 'wave1/treatment1/false/pro_r/Rep_False_Breit_2_NoFC.png',\n",
       " 'wave1/treatment1/false/pro_r/Rep_False_Fox_2_NoFC.png',\n",
       " 'wave1/treatment1/false/pro_r/Rep_False_Breit_1_NoFC.png',\n",
       " 'wave1/treatment1/false/pro_r/Rep_False_Fox_1_NoFC.png',\n",
       " 'wave1/treatment2/true/pro_d/Dem_True_MSNBC_1_NoFC.png',\n",
       " 'wave1/treatment2/true/pro_d/Dem_True_DemNow_2_NoFC.png',\n",
       " 'wave1/treatment2/true/pro_d/Dem_True_MSNBC_2_NoFC.png',\n",
       " 'wave1/treatment2/true/pro_d/Dem_True_DemNow_1_NoFC.png',\n",
       " 'wave1/treatment2/true/pro_r/Rep_True_Fox_1_NoFC.png',\n",
       " 'wave1/treatment2/true/pro_r/Rep_True_Breit_2_NoFC.png',\n",
       " 'wave1/treatment2/true/pro_r/Rep_True_Fox_2_NoFC.png',\n",
       " 'wave1/treatment2/true/pro_r/Rep_True_Breit_1_NoFC.png',\n",
       " 'wave1/treatment2/false/pro_d/Dem_False_DemNow_1_FC.png',\n",
       " 'wave1/treatment2/false/pro_d/Dem_False_MSNBC_2_FC.png',\n",
       " 'wave1/treatment2/false/pro_d/Dem_False_MSNBC_1_FC.png',\n",
       " 'wave1/treatment2/false/pro_d/Dem_False_DemNow_2_FC.png',\n",
       " 'wave1/treatment2/false/pro_r/Rep_False_Breit_2_FC.png',\n",
       " 'wave1/treatment2/false/pro_r/Rep_False_Fox_2_FC.png',\n",
       " 'wave1/treatment2/false/pro_r/Rep_False_Fox_1_FC.png',\n",
       " 'wave1/treatment2/false/pro_r/Rep_False_Breit_1_FC.png',\n",
       " 'wave1/control/true/pro_d/TrueProD_HP_MTGandLB.png',\n",
       " 'wave1/control/true/pro_d/TrueProD_LP_Desantis.png',\n",
       " 'wave1/control/true/pro_d/TrueProD_HP_AfterVoting.png',\n",
       " 'wave1/control/true/pro_d/TrueProD_LP_McConnellBlack.png',\n",
       " 'wave1/control/true/pro_d/trueProD_HP_GOPcensures.png',\n",
       " 'wave1/control/true/pro_d/TrueProD_HP_Newt.png',\n",
       " 'wave1/control/true/pro_d/trueProD_HP_gazpacho.png',\n",
       " 'wave1/control/true/pro_d/trueProD_LP_putin.png',\n",
       " 'wave1/control/true/pro_d/trueProD_LP_traffic.png',\n",
       " 'wave1/control/true/pro_d/TrueProD_HP_HouseReps.png',\n",
       " 'wave1/control/true/pro_d/TrueProD_LP_MTGRebukes.png',\n",
       " 'wave1/control/true/pro_d/TrueProD_LP_MTGEvo.png',\n",
       " 'wave1/control/true/pro_r/TrueProR_LP_BidenAccident.png',\n",
       " 'wave1/control/true/pro_r/TrueProR_HP_Hunter.png',\n",
       " 'wave1/control/true/pro_r/TrueProR_HP_slumber.png',\n",
       " 'wave1/control/true/pro_r/trueProR_LP_AOC.png',\n",
       " 'wave1/control/true/pro_r/TrueProR_HP_GodLeft.png',\n",
       " 'wave1/control/true/pro_r/TrueProR_LP_22Dems_cap.png',\n",
       " 'wave1/control/true/pro_r/TrueProR_LP_Nancy.png',\n",
       " 'wave1/control/true/pro_r/trueProR_HP_key.png',\n",
       " 'wave1/control/true/pro_r/TrueProR_LP_baltimore.png',\n",
       " 'wave1/control/true/pro_r/TrueProR_LP_JoeBidenSpent.png',\n",
       " 'wave1/control/true/pro_r/TrueProR_HP_BidenSnubs.png',\n",
       " 'wave1/control/true/pro_r/TrueProR_HP_WorstInflation.png',\n",
       " 'wave1/control/false/pro_d/FalseProD_AnotherRussian.png',\n",
       " 'wave1/control/false/pro_d/falseProD_signing.png',\n",
       " 'wave1/control/false/pro_d/FalseProD_Unearthed.png',\n",
       " 'wave1/control/false/pro_d/FalseProD_Dayton_cap.png',\n",
       " 'wave1/control/false/pro_d/falseProD_kushner.png',\n",
       " 'wave1/control/false/pro_d/FalseProD_Majorie.png',\n",
       " 'wave1/control/false/pro_r/FalseProR_CDC.png',\n",
       " 'wave1/control/false/pro_r/FalseProR_BidensClimate_cap.png',\n",
       " 'wave1/control/false/pro_r/FalseProR_NYLeg.png',\n",
       " 'wave1/control/false/pro_r/falseProR_ebola.png',\n",
       " 'wave1/control/false/pro_r/FalseProR_RevealedSimple.png',\n",
       " 'wave1/control/false/pro_r/falseProR_pelosi.png']"
      ]
     },
     "execution_count": 61,
     "metadata": {},
     "output_type": "execute_result"
    }
   ],
   "source": [
    "all_files"
   ]
  },
  {
   "cell_type": "code",
   "execution_count": 62,
   "id": "e03c3562",
   "metadata": {},
   "outputs": [],
   "source": [
    "# create path for github\n",
    "full_path = [\"https://raw.githubusercontent.com/jbisbee1/illusory_headlines/main/\" + path for path in all_files]"
   ]
  },
  {
   "cell_type": "code",
   "execution_count": 63,
   "id": "28ed19ba",
   "metadata": {},
   "outputs": [
    {
     "data": {
      "text/plain": [
       "['https://raw.githubusercontent.com/jbisbee1/illusory_headlines/main/wave1/treatment1/true/pro_d/Dem_True_MSNBC_1_NoFC.png',\n",
       " 'https://raw.githubusercontent.com/jbisbee1/illusory_headlines/main/wave1/treatment1/true/pro_d/Dem_True_DemNow_2_NoFC.png',\n",
       " 'https://raw.githubusercontent.com/jbisbee1/illusory_headlines/main/wave1/treatment1/true/pro_d/Dem_True_MSNBC_2_NoFC.png',\n",
       " 'https://raw.githubusercontent.com/jbisbee1/illusory_headlines/main/wave1/treatment1/true/pro_d/Dem_True_DemNow_1_NoFC.png',\n",
       " 'https://raw.githubusercontent.com/jbisbee1/illusory_headlines/main/wave1/treatment1/true/pro_r/Rep_True_Fox_1_NoFC.png',\n",
       " 'https://raw.githubusercontent.com/jbisbee1/illusory_headlines/main/wave1/treatment1/true/pro_r/Rep_True_Breit_2_NoFC.png',\n",
       " 'https://raw.githubusercontent.com/jbisbee1/illusory_headlines/main/wave1/treatment1/true/pro_r/Rep_True_Fox_2_NoFC.png',\n",
       " 'https://raw.githubusercontent.com/jbisbee1/illusory_headlines/main/wave1/treatment1/true/pro_r/Rep_True_Breit_1_NoFC.png',\n",
       " 'https://raw.githubusercontent.com/jbisbee1/illusory_headlines/main/wave1/treatment1/false/pro_d/Dem_False_MSNBC_1_NoFC.png',\n",
       " 'https://raw.githubusercontent.com/jbisbee1/illusory_headlines/main/wave1/treatment1/false/pro_d/Dem_False_DemNow_1_NoFC.png',\n",
       " 'https://raw.githubusercontent.com/jbisbee1/illusory_headlines/main/wave1/treatment1/false/pro_d/Dem_False_DemNow_2_NoFC.png',\n",
       " 'https://raw.githubusercontent.com/jbisbee1/illusory_headlines/main/wave1/treatment1/false/pro_d/Dem_False_MSNBC_2_NoFC.png',\n",
       " 'https://raw.githubusercontent.com/jbisbee1/illusory_headlines/main/wave1/treatment1/false/pro_r/Rep_False_Breit_2_NoFC.png',\n",
       " 'https://raw.githubusercontent.com/jbisbee1/illusory_headlines/main/wave1/treatment1/false/pro_r/Rep_False_Fox_2_NoFC.png',\n",
       " 'https://raw.githubusercontent.com/jbisbee1/illusory_headlines/main/wave1/treatment1/false/pro_r/Rep_False_Breit_1_NoFC.png',\n",
       " 'https://raw.githubusercontent.com/jbisbee1/illusory_headlines/main/wave1/treatment1/false/pro_r/Rep_False_Fox_1_NoFC.png',\n",
       " 'https://raw.githubusercontent.com/jbisbee1/illusory_headlines/main/wave1/treatment2/true/pro_d/Dem_True_MSNBC_1_NoFC.png',\n",
       " 'https://raw.githubusercontent.com/jbisbee1/illusory_headlines/main/wave1/treatment2/true/pro_d/Dem_True_DemNow_2_NoFC.png',\n",
       " 'https://raw.githubusercontent.com/jbisbee1/illusory_headlines/main/wave1/treatment2/true/pro_d/Dem_True_MSNBC_2_NoFC.png',\n",
       " 'https://raw.githubusercontent.com/jbisbee1/illusory_headlines/main/wave1/treatment2/true/pro_d/Dem_True_DemNow_1_NoFC.png',\n",
       " 'https://raw.githubusercontent.com/jbisbee1/illusory_headlines/main/wave1/treatment2/true/pro_r/Rep_True_Fox_1_NoFC.png',\n",
       " 'https://raw.githubusercontent.com/jbisbee1/illusory_headlines/main/wave1/treatment2/true/pro_r/Rep_True_Breit_2_NoFC.png',\n",
       " 'https://raw.githubusercontent.com/jbisbee1/illusory_headlines/main/wave1/treatment2/true/pro_r/Rep_True_Fox_2_NoFC.png',\n",
       " 'https://raw.githubusercontent.com/jbisbee1/illusory_headlines/main/wave1/treatment2/true/pro_r/Rep_True_Breit_1_NoFC.png',\n",
       " 'https://raw.githubusercontent.com/jbisbee1/illusory_headlines/main/wave1/treatment2/false/pro_d/Dem_False_DemNow_1_FC.png',\n",
       " 'https://raw.githubusercontent.com/jbisbee1/illusory_headlines/main/wave1/treatment2/false/pro_d/Dem_False_MSNBC_2_FC.png',\n",
       " 'https://raw.githubusercontent.com/jbisbee1/illusory_headlines/main/wave1/treatment2/false/pro_d/Dem_False_MSNBC_1_FC.png',\n",
       " 'https://raw.githubusercontent.com/jbisbee1/illusory_headlines/main/wave1/treatment2/false/pro_d/Dem_False_DemNow_2_FC.png',\n",
       " 'https://raw.githubusercontent.com/jbisbee1/illusory_headlines/main/wave1/treatment2/false/pro_r/Rep_False_Breit_2_FC.png',\n",
       " 'https://raw.githubusercontent.com/jbisbee1/illusory_headlines/main/wave1/treatment2/false/pro_r/Rep_False_Fox_2_FC.png',\n",
       " 'https://raw.githubusercontent.com/jbisbee1/illusory_headlines/main/wave1/treatment2/false/pro_r/Rep_False_Fox_1_FC.png',\n",
       " 'https://raw.githubusercontent.com/jbisbee1/illusory_headlines/main/wave1/treatment2/false/pro_r/Rep_False_Breit_1_FC.png',\n",
       " 'https://raw.githubusercontent.com/jbisbee1/illusory_headlines/main/wave1/control/true/pro_d/TrueProD_HP_MTGandLB.png',\n",
       " 'https://raw.githubusercontent.com/jbisbee1/illusory_headlines/main/wave1/control/true/pro_d/TrueProD_LP_Desantis.png',\n",
       " 'https://raw.githubusercontent.com/jbisbee1/illusory_headlines/main/wave1/control/true/pro_d/TrueProD_HP_AfterVoting.png',\n",
       " 'https://raw.githubusercontent.com/jbisbee1/illusory_headlines/main/wave1/control/true/pro_d/TrueProD_LP_McConnellBlack.png',\n",
       " 'https://raw.githubusercontent.com/jbisbee1/illusory_headlines/main/wave1/control/true/pro_d/trueProD_HP_GOPcensures.png',\n",
       " 'https://raw.githubusercontent.com/jbisbee1/illusory_headlines/main/wave1/control/true/pro_d/TrueProD_HP_Newt.png',\n",
       " 'https://raw.githubusercontent.com/jbisbee1/illusory_headlines/main/wave1/control/true/pro_d/trueProD_HP_gazpacho.png',\n",
       " 'https://raw.githubusercontent.com/jbisbee1/illusory_headlines/main/wave1/control/true/pro_d/trueProD_LP_putin.png',\n",
       " 'https://raw.githubusercontent.com/jbisbee1/illusory_headlines/main/wave1/control/true/pro_d/trueProD_LP_traffic.png',\n",
       " 'https://raw.githubusercontent.com/jbisbee1/illusory_headlines/main/wave1/control/true/pro_d/TrueProD_HP_HouseReps.png',\n",
       " 'https://raw.githubusercontent.com/jbisbee1/illusory_headlines/main/wave1/control/true/pro_d/TrueProD_LP_MTGRebukes.png',\n",
       " 'https://raw.githubusercontent.com/jbisbee1/illusory_headlines/main/wave1/control/true/pro_d/TrueProD_LP_MTGEvo.png',\n",
       " 'https://raw.githubusercontent.com/jbisbee1/illusory_headlines/main/wave1/control/true/pro_r/TrueProR_LP_BidenAccident.png',\n",
       " 'https://raw.githubusercontent.com/jbisbee1/illusory_headlines/main/wave1/control/true/pro_r/TrueProR_HP_Hunter.png',\n",
       " 'https://raw.githubusercontent.com/jbisbee1/illusory_headlines/main/wave1/control/true/pro_r/TrueProR_HP_slumber.png',\n",
       " 'https://raw.githubusercontent.com/jbisbee1/illusory_headlines/main/wave1/control/true/pro_r/trueProR_LP_AOC.png',\n",
       " 'https://raw.githubusercontent.com/jbisbee1/illusory_headlines/main/wave1/control/true/pro_r/TrueProR_HP_GodLeft.png',\n",
       " 'https://raw.githubusercontent.com/jbisbee1/illusory_headlines/main/wave1/control/true/pro_r/TrueProR_LP_22Dems_cap.png',\n",
       " 'https://raw.githubusercontent.com/jbisbee1/illusory_headlines/main/wave1/control/true/pro_r/TrueProR_LP_Nancy.png',\n",
       " 'https://raw.githubusercontent.com/jbisbee1/illusory_headlines/main/wave1/control/true/pro_r/trueProR_HP_key.png',\n",
       " 'https://raw.githubusercontent.com/jbisbee1/illusory_headlines/main/wave1/control/true/pro_r/TrueProR_LP_baltimore.png',\n",
       " 'https://raw.githubusercontent.com/jbisbee1/illusory_headlines/main/wave1/control/true/pro_r/TrueProR_LP_JoeBidenSpent.png',\n",
       " 'https://raw.githubusercontent.com/jbisbee1/illusory_headlines/main/wave1/control/true/pro_r/TrueProR_HP_BidenSnubs.png',\n",
       " 'https://raw.githubusercontent.com/jbisbee1/illusory_headlines/main/wave1/control/true/pro_r/TrueProR_HP_WorstInflation.png',\n",
       " 'https://raw.githubusercontent.com/jbisbee1/illusory_headlines/main/wave1/control/false/pro_d/FalseProD_AnotherRussian.png',\n",
       " 'https://raw.githubusercontent.com/jbisbee1/illusory_headlines/main/wave1/control/false/pro_d/falseProD_signing.png',\n",
       " 'https://raw.githubusercontent.com/jbisbee1/illusory_headlines/main/wave1/control/false/pro_d/FalseProD_Unearthed.png',\n",
       " 'https://raw.githubusercontent.com/jbisbee1/illusory_headlines/main/wave1/control/false/pro_d/FalseProD_Dayton_cap.png',\n",
       " 'https://raw.githubusercontent.com/jbisbee1/illusory_headlines/main/wave1/control/false/pro_d/falseProD_kushner.png',\n",
       " 'https://raw.githubusercontent.com/jbisbee1/illusory_headlines/main/wave1/control/false/pro_d/FalseProD_Majorie.png',\n",
       " 'https://raw.githubusercontent.com/jbisbee1/illusory_headlines/main/wave1/control/false/pro_r/FalseProR_CDC.png',\n",
       " 'https://raw.githubusercontent.com/jbisbee1/illusory_headlines/main/wave1/control/false/pro_r/FalseProR_BidensClimate_cap.png',\n",
       " 'https://raw.githubusercontent.com/jbisbee1/illusory_headlines/main/wave1/control/false/pro_r/FalseProR_NYLeg.png',\n",
       " 'https://raw.githubusercontent.com/jbisbee1/illusory_headlines/main/wave1/control/false/pro_r/falseProR_ebola.png',\n",
       " 'https://raw.githubusercontent.com/jbisbee1/illusory_headlines/main/wave1/control/false/pro_r/FalseProR_RevealedSimple.png',\n",
       " 'https://raw.githubusercontent.com/jbisbee1/illusory_headlines/main/wave1/control/false/pro_r/falseProR_pelosi.png']"
      ]
     },
     "execution_count": 63,
     "metadata": {},
     "output_type": "execute_result"
    }
   ],
   "source": [
    "full_path"
   ]
  },
  {
   "cell_type": "code",
   "execution_count": 64,
   "id": "51e1f0a1",
   "metadata": {},
   "outputs": [
    {
     "data": {
      "text/plain": [
       "['wave1', 'treatment1', 'true', 'pro_d', 'Dem_True_MSNBC_1_NoFC.png']"
      ]
     },
     "execution_count": 64,
     "metadata": {},
     "output_type": "execute_result"
    }
   ],
   "source": [
    "all_files[0].split(\"/\")"
   ]
  },
  {
   "cell_type": "code",
   "execution_count": 65,
   "id": "2d2bc80c",
   "metadata": {},
   "outputs": [],
   "source": [
    "#wave\n",
    "wave = [path.split(\"/\")[0]  for path in all_files]\n",
    "# treatment\n",
    "treatment = [path.split(\"/\")[1]  for path in all_files]\n",
    "# get direction\n",
    "direction = [path.split(\"/\")[3]  for path in all_files]\n",
    "# veracity\n",
    "veracity = [path.split(\"/\")[2]  for path in all_files]"
   ]
  },
  {
   "cell_type": "code",
   "execution_count": 66,
   "id": "efae40d2",
   "metadata": {},
   "outputs": [],
   "source": [
    "pd.DataFrame({\"wave\":wave,\n",
    "             \"treatment\":treatment,\n",
    "             \"direction\":direction, \n",
    "              \"veracity\":veracity, \n",
    "             \"full_path\":full_path}).to_csv(\"headlines_wave1.csv\")"
   ]
  }
 ],
 "metadata": {
  "kernelspec": {
   "display_name": "Python 3 (ipykernel)",
   "language": "python",
   "name": "python3"
  },
  "language_info": {
   "codemirror_mode": {
    "name": "ipython",
    "version": 3
   },
   "file_extension": ".py",
   "mimetype": "text/x-python",
   "name": "python",
   "nbconvert_exporter": "python",
   "pygments_lexer": "ipython3",
   "version": "3.11.4"
  }
 },
 "nbformat": 4,
 "nbformat_minor": 5
}
