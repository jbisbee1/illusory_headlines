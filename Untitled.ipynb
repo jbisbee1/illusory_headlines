{
 "cells": [
  {
   "cell_type": "code",
   "execution_count": 5,
   "id": "b0c86ec5",
   "metadata": {},
   "outputs": [],
   "source": [
    "# get path\n",
    "import os\n",
    "import glob"
   ]
  },
  {
   "cell_type": "code",
   "execution_count": 1,
   "id": "8da43114",
   "metadata": {},
   "outputs": [],
   "source": [
    "import os\n",
    "\n",
    "def get_files_in_folder(folder_path):\n",
    "    file_list = []\n",
    "    \n",
    "    for root, directories, files in os.walk(folder_path):\n",
    "        for filename in files:\n",
    "            file_path = os.path.join(root, filename)\n",
    "            file_list.append(file_path)\n",
    "    \n",
    "    return file_list\n"
   ]
  },
  {
   "cell_type": "code",
   "execution_count": 11,
   "id": "9cc366a0",
   "metadata": {},
   "outputs": [],
   "source": [
    "# glob solution\n",
    "all_files = glob.glob(\"*/*/*.png\", recursive=True)"
   ]
  },
  {
   "cell_type": "code",
   "execution_count": 10,
   "id": "3ca58038",
   "metadata": {},
   "outputs": [
    {
     "data": {
      "text/plain": [
       "['true/pro_d/TrueProD_HP_MTGandLB.png',\n",
       " 'true/pro_d/TrueProD_LP_Desantis.png',\n",
       " 'true/pro_d/TrueProD_HP_AfterVoting.png',\n",
       " 'true/pro_d/TrueProD_LP_McConnellBlack.png',\n",
       " 'true/pro_d/trueProD_HP_GOPcensures.png',\n",
       " 'true/pro_d/TrueProD_HP_Newt.png',\n",
       " 'true/pro_d/trueProD_HP_gazpacho.png',\n",
       " 'true/pro_d/trueProD_LP_putin.png',\n",
       " 'true/pro_d/trueProD_LP_traffic.png',\n",
       " 'true/pro_d/TrueProD_HP_HouseReps.png',\n",
       " 'true/pro_d/TrueProD_LP_MTGRebukes.png',\n",
       " 'true/pro_d/TrueProD_LP_MTGEvo.png',\n",
       " 'true/pro_r/TrueProR_LP_BidenAccident.png',\n",
       " 'true/pro_r/TrueProR_HP_Hunter.png',\n",
       " 'true/pro_r/TrueProR_HP_slumber.png',\n",
       " 'true/pro_r/trueProR_LP_AOC.png',\n",
       " 'true/pro_r/TrueProR_HP_GodLeft.png',\n",
       " 'true/pro_r/TrueProR_LP_22Dems_cap.png',\n",
       " 'true/pro_r/TrueProR_LP_Nancy.png',\n",
       " 'true/pro_r/trueProR_HP_key.png',\n",
       " 'true/pro_r/TrueProR_LP_baltimore.png',\n",
       " 'true/pro_r/TrueProR_LP_JoeBidenSpent.png',\n",
       " 'true/pro_r/TrueProR_HP_BidenSnubs.png',\n",
       " 'true/pro_r/TrueProR_HP_WorstInflation.png',\n",
       " 'false/pro_d/FalseProD_AnotherRussian.png',\n",
       " 'false/pro_d/falseProD_signing.png',\n",
       " 'false/pro_d/FalseProD_Unearthed.png',\n",
       " 'false/pro_d/FalseProD_Dayton_cap.png',\n",
       " 'false/pro_d/falseProD_kushner.png',\n",
       " 'false/pro_d/FalseProD_Majorie.png',\n",
       " 'false/pro_r/FalseProR_CDC.png',\n",
       " 'false/pro_r/FalseProR_BidensClimate_cap.png',\n",
       " 'false/pro_r/FalseProR_NYLeg.png',\n",
       " 'false/pro_r/falseProR_ebola.png',\n",
       " 'false/pro_r/FalseProR_RevealedSimple.png',\n",
       " 'false/pro_r/falseProR_pelosi.png']"
      ]
     },
     "execution_count": 10,
     "metadata": {},
     "output_type": "execute_result"
    }
   ],
   "source": [
    "# create path for github\n"
   ]
  }
 ],
 "metadata": {
  "kernelspec": {
   "display_name": "Python 3 (ipykernel)",
   "language": "python",
   "name": "python3"
  },
  "language_info": {
   "codemirror_mode": {
    "name": "ipython",
    "version": 3
   },
   "file_extension": ".py",
   "mimetype": "text/x-python",
   "name": "python",
   "nbconvert_exporter": "python",
   "pygments_lexer": "ipython3",
   "version": "3.11.4"
  }
 },
 "nbformat": 4,
 "nbformat_minor": 5
}
